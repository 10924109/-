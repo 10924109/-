{
  "nbformat": 4,
  "nbformat_minor": 0,
  "metadata": {
    "colab": {
      "provenance": []
    },
    "kernelspec": {
      "name": "python3",
      "display_name": "Python 3"
    },
    "language_info": {
      "name": "python"
    }
  },
  "cells": [
    {
      "cell_type": "code",
      "execution_count": 3,
      "metadata": {
        "colab": {
          "base_uri": "https://localhost:8080/"
        },
        "id": "o58NZNiEhDax",
        "outputId": "e046451c-a22e-433f-bbed-f5ebf7da9a0e"
      },
      "outputs": [
        {
          "output_type": "stream",
          "name": "stdout",
          "text": [
            "HEADER: \"Time\",\"V1\",\"V2\",\"V3\",\"V4\",\"V5\",\"V6\",\"V7\",\"V8\",\"V9\",\"V10\",\"V11\",\"V12\",\"V13\",\"V14\",\"V15\",\"V16\",\"V17\",\"V18\",\"V19\",\"V20\",\"V21\",\"V22\",\"V23\",\"V24\",\"V25\",\"V26\",\"V27\",\"V28\",\"Amount\",\"Class\"\n",
            "EXAMPLE FEATURES: [0.0, -1.3598071336738, -0.0727811733098497, 2.53634673796914, 1.37815522427443, -0.338320769942518, 0.462387777762292, 0.239598554061257, 0.0986979012610507, 0.363786969611213, 0.0907941719789316, -0.551599533260813, -0.617800855762348, -0.991389847235408, -0.311169353699879, 1.46817697209427, -0.470400525259478, 0.207971241929242, 0.0257905801985591, 0.403992960255733, 0.251412098239705, -0.018306777944153, 0.277837575558899, -0.110473910188767, 0.0669280749146731, 0.128539358273528, -0.189114843888824, 0.133558376740387, -0.0210530534538215, 149.62]\n",
            "features.shape: (284807, 30)\n",
            "targets.shape: (284807, 1)\n"
          ]
        }
      ],
      "source": [
        "import csv\n",
        "import numpy as np\n",
        "\n",
        "fname = \"/content/drive/MyDrive/期末報告/creditcard.csv\"\n",
        "\n",
        "all_features = []\n",
        "all_targets = []\n",
        "with open(fname) as f:\n",
        "    for i, line in enumerate(f):\n",
        "        if i == 0:\n",
        "            print(\"HEADER:\", line.strip())\n",
        "            continue  # Skip header\n",
        "        fields = line.strip().split(\",\")\n",
        "        all_features.append([float(v.replace('\"', \"\")) for v in fields[:-1]])\n",
        "        all_targets.append([int(fields[-1].replace('\"', \"\"))])\n",
        "        if i == 1:\n",
        "            print(\"EXAMPLE FEATURES:\", all_features[-1])\n",
        "\n",
        "features = np.array(all_features, dtype=\"float32\")\n",
        "targets = np.array(all_targets, dtype=\"uint8\")\n",
        "print(\"features.shape:\", features.shape)\n",
        "print(\"targets.shape:\", targets.shape)"
      ]
    },
    {
      "cell_type": "code",
      "source": [
        "num_val_samples = int(len(features) * 0.2)\n",
        "train_features = features[:-num_val_samples]\n",
        "train_targets = targets[:-num_val_samples]\n",
        "val_features = features[-num_val_samples:]\n",
        "val_targets = targets[-num_val_samples:]\n",
        "\n",
        "print(\"Number of training samples:\", len(train_features))\n",
        "print(\"Number of validation samples:\", len(val_features))"
      ],
      "metadata": {
        "colab": {
          "base_uri": "https://localhost:8080/"
        },
        "id": "uWFmNZC_hwdc",
        "outputId": "9ecb0f47-0020-466f-d944-d594ee6ae4d9"
      },
      "execution_count": 4,
      "outputs": [
        {
          "output_type": "stream",
          "name": "stdout",
          "text": [
            "Number of training samples: 227846\n",
            "Number of validation samples: 56961\n"
          ]
        }
      ]
    },
    {
      "cell_type": "code",
      "source": [
        "counts = np.bincount(train_targets[:, 0])\n",
        "print(\n",
        "    \"Number of positive samples in training data: {} ({:.2f}% of total)\".format(\n",
        "        counts[1], 100 * float(counts[1]) / len(train_targets)\n",
        "    )\n",
        ")\n",
        "\n",
        "weight_for_0 = 1.0 / counts[0]\n",
        "weight_for_1 = 1.0 / counts[1]"
      ],
      "metadata": {
        "colab": {
          "base_uri": "https://localhost:8080/"
        },
        "id": "oFdXL3WUn514",
        "outputId": "02d10903-0633-4bef-eb36-12ba7eade58c"
      },
      "execution_count": 5,
      "outputs": [
        {
          "output_type": "stream",
          "name": "stdout",
          "text": [
            "Number of positive samples in training data: 417 (0.18% of total)\n"
          ]
        }
      ]
    },
    {
      "cell_type": "code",
      "source": [
        "mean = np.mean(train_features, axis=0)\n",
        "train_features -= mean\n",
        "val_features -= mean\n",
        "std = np.std(train_features, axis=0)\n",
        "train_features /= std\n",
        "val_features /= std"
      ],
      "metadata": {
        "id": "Fe0AlQOKn8nk"
      },
      "execution_count": 6,
      "outputs": []
    },
    {
      "cell_type": "code",
      "source": [
        "import keras\n",
        "\n",
        "model = keras.Sequential(\n",
        "    [\n",
        "        keras.Input(shape=train_features.shape[1:]),\n",
        "        keras.layers.Dense(256, activation=\"relu\"),\n",
        "        keras.layers.Dense(256, activation=\"relu\"),\n",
        "        keras.layers.Dropout(0.3),\n",
        "        keras.layers.Dense(256, activation=\"relu\"),\n",
        "        keras.layers.Dropout(0.3),\n",
        "        keras.layers.Dense(1, activation=\"sigmoid\"),\n",
        "    ]\n",
        ")\n",
        "model.summary()"
      ],
      "metadata": {
        "colab": {
          "base_uri": "https://localhost:8080/"
        },
        "id": "906QZ2m_n-bp",
        "outputId": "65a8736f-b273-4fcf-fc29-f115eddcd2c6"
      },
      "execution_count": 7,
      "outputs": [
        {
          "output_type": "stream",
          "name": "stdout",
          "text": [
            "Model: \"sequential\"\n",
            "_________________________________________________________________\n",
            " Layer (type)                Output Shape              Param #   \n",
            "=================================================================\n",
            " dense (Dense)               (None, 256)               7936      \n",
            "                                                                 \n",
            " dense_1 (Dense)             (None, 256)               65792     \n",
            "                                                                 \n",
            " dropout (Dropout)           (None, 256)               0         \n",
            "                                                                 \n",
            " dense_2 (Dense)             (None, 256)               65792     \n",
            "                                                                 \n",
            " dropout_1 (Dropout)         (None, 256)               0         \n",
            "                                                                 \n",
            " dense_3 (Dense)             (None, 1)                 257       \n",
            "                                                                 \n",
            "=================================================================\n",
            "Total params: 139777 (546.00 KB)\n",
            "Trainable params: 139777 (546.00 KB)\n",
            "Non-trainable params: 0 (0.00 Byte)\n",
            "_________________________________________________________________\n"
          ]
        }
      ]
    },
    {
      "cell_type": "code",
      "source": [
        "metrics = [\n",
        "    keras.metrics.FalseNegatives(name=\"fn\"),\n",
        "    keras.metrics.FalsePositives(name=\"fp\"),\n",
        "    keras.metrics.TrueNegatives(name=\"tn\"),\n",
        "    keras.metrics.TruePositives(name=\"tp\"),\n",
        "    keras.metrics.Precision(name=\"precision\"),\n",
        "    keras.metrics.Recall(name=\"recall\"),\n",
        "]\n",
        "\n",
        "model.compile(\n",
        "    optimizer=keras.optimizers.Adam(1e-2), loss=\"binary_crossentropy\", metrics=metrics\n",
        ")\n",
        "\n",
        "callbacks = [keras.callbacks.ModelCheckpoint(\"fraud_model_at_epoch_{epoch}.keras\")]\n",
        "class_weight = {0: weight_for_0, 1: weight_for_1}\n",
        "\n",
        "model.fit(\n",
        "    train_features,\n",
        "    train_targets,\n",
        "    batch_size=2048,\n",
        "    epochs=30,\n",
        "    verbose=2,\n",
        "    callbacks=callbacks,\n",
        "    validation_data=(val_features, val_targets),\n",
        "    class_weight=class_weight,\n",
        ")"
      ],
      "metadata": {
        "colab": {
          "base_uri": "https://localhost:8080/"
        },
        "id": "nh1AARmhoAWi",
        "outputId": "4cf47a3f-a8d1-4824-c9b8-d153f202ca6b"
      },
      "execution_count": 8,
      "outputs": [
        {
          "output_type": "stream",
          "name": "stdout",
          "text": [
            "Epoch 1/30\n",
            "112/112 - 9s - loss: 2.5584e-06 - fn: 48.0000 - fp: 31669.0000 - tn: 195760.0000 - tp: 369.0000 - precision: 0.0115 - recall: 0.8849 - val_loss: 0.0388 - val_fn: 12.0000 - val_fp: 115.0000 - val_tn: 56771.0000 - val_tp: 63.0000 - val_precision: 0.3539 - val_recall: 0.8400 - 9s/epoch - 80ms/step\n",
            "Epoch 2/30\n",
            "112/112 - 6s - loss: 1.4555e-06 - fn: 35.0000 - fp: 7538.0000 - tn: 219891.0000 - tp: 382.0000 - precision: 0.0482 - recall: 0.9161 - val_loss: 0.1077 - val_fn: 9.0000 - val_fp: 792.0000 - val_tn: 56094.0000 - val_tp: 66.0000 - val_precision: 0.0769 - val_recall: 0.8800 - 6s/epoch - 54ms/step\n",
            "Epoch 3/30\n",
            "112/112 - 5s - loss: 1.1878e-06 - fn: 32.0000 - fp: 6655.0000 - tn: 220774.0000 - tp: 385.0000 - precision: 0.0547 - recall: 0.9233 - val_loss: 0.1450 - val_fn: 7.0000 - val_fp: 1714.0000 - val_tn: 55172.0000 - val_tp: 68.0000 - val_precision: 0.0382 - val_recall: 0.9067 - 5s/epoch - 42ms/step\n",
            "Epoch 4/30\n",
            "112/112 - 7s - loss: 1.1173e-06 - fn: 25.0000 - fp: 7317.0000 - tn: 220112.0000 - tp: 392.0000 - precision: 0.0508 - recall: 0.9400 - val_loss: 0.0724 - val_fn: 9.0000 - val_fp: 889.0000 - val_tn: 55997.0000 - val_tp: 66.0000 - val_precision: 0.0691 - val_recall: 0.8800 - 7s/epoch - 58ms/step\n",
            "Epoch 5/30\n",
            "112/112 - 5s - loss: 8.7223e-07 - fn: 19.0000 - fp: 7046.0000 - tn: 220383.0000 - tp: 398.0000 - precision: 0.0535 - recall: 0.9544 - val_loss: 0.0744 - val_fn: 8.0000 - val_fp: 1247.0000 - val_tn: 55639.0000 - val_tp: 67.0000 - val_precision: 0.0510 - val_recall: 0.8933 - 5s/epoch - 47ms/step\n",
            "Epoch 6/30\n",
            "112/112 - 5s - loss: 8.6261e-07 - fn: 19.0000 - fp: 6910.0000 - tn: 220519.0000 - tp: 398.0000 - precision: 0.0545 - recall: 0.9544 - val_loss: 0.0799 - val_fn: 7.0000 - val_fp: 1528.0000 - val_tn: 55358.0000 - val_tp: 68.0000 - val_precision: 0.0426 - val_recall: 0.9067 - 5s/epoch - 45ms/step\n",
            "Epoch 7/30\n",
            "112/112 - 7s - loss: 7.2191e-07 - fn: 19.0000 - fp: 7322.0000 - tn: 220107.0000 - tp: 398.0000 - precision: 0.0516 - recall: 0.9544 - val_loss: 0.0763 - val_fn: 6.0000 - val_fp: 1969.0000 - val_tn: 54917.0000 - val_tp: 69.0000 - val_precision: 0.0339 - val_recall: 0.9200 - 7s/epoch - 66ms/step\n",
            "Epoch 8/30\n",
            "112/112 - 5s - loss: 6.8135e-07 - fn: 14.0000 - fp: 7766.0000 - tn: 219663.0000 - tp: 403.0000 - precision: 0.0493 - recall: 0.9664 - val_loss: 0.0666 - val_fn: 10.0000 - val_fp: 1113.0000 - val_tn: 55773.0000 - val_tp: 65.0000 - val_precision: 0.0552 - val_recall: 0.8667 - 5s/epoch - 45ms/step\n",
            "Epoch 9/30\n",
            "112/112 - 5s - loss: 5.8504e-07 - fn: 11.0000 - fp: 5910.0000 - tn: 221519.0000 - tp: 406.0000 - precision: 0.0643 - recall: 0.9736 - val_loss: 0.0367 - val_fn: 9.0000 - val_fp: 840.0000 - val_tn: 56046.0000 - val_tp: 66.0000 - val_precision: 0.0728 - val_recall: 0.8800 - 5s/epoch - 48ms/step\n",
            "Epoch 10/30\n",
            "112/112 - 6s - loss: 6.6282e-07 - fn: 11.0000 - fp: 8176.0000 - tn: 219253.0000 - tp: 406.0000 - precision: 0.0473 - recall: 0.9736 - val_loss: 0.0327 - val_fn: 8.0000 - val_fp: 707.0000 - val_tn: 56179.0000 - val_tp: 67.0000 - val_precision: 0.0866 - val_recall: 0.8933 - 6s/epoch - 58ms/step\n",
            "Epoch 11/30\n",
            "112/112 - 5s - loss: 6.3479e-07 - fn: 13.0000 - fp: 7578.0000 - tn: 219851.0000 - tp: 404.0000 - precision: 0.0506 - recall: 0.9688 - val_loss: 0.1044 - val_fn: 9.0000 - val_fp: 2265.0000 - val_tn: 54621.0000 - val_tp: 66.0000 - val_precision: 0.0283 - val_recall: 0.8800 - 5s/epoch - 43ms/step\n",
            "Epoch 12/30\n",
            "112/112 - 6s - loss: 4.9319e-07 - fn: 8.0000 - fp: 5405.0000 - tn: 222024.0000 - tp: 409.0000 - precision: 0.0703 - recall: 0.9808 - val_loss: 0.0521 - val_fn: 6.0000 - val_fp: 1323.0000 - val_tn: 55563.0000 - val_tp: 69.0000 - val_precision: 0.0496 - val_recall: 0.9200 - 6s/epoch - 55ms/step\n",
            "Epoch 13/30\n",
            "112/112 - 6s - loss: 4.9324e-07 - fn: 13.0000 - fp: 5518.0000 - tn: 221911.0000 - tp: 404.0000 - precision: 0.0682 - recall: 0.9688 - val_loss: 0.0251 - val_fn: 9.0000 - val_fp: 457.0000 - val_tn: 56429.0000 - val_tp: 66.0000 - val_precision: 0.1262 - val_recall: 0.8800 - 6s/epoch - 50ms/step\n",
            "Epoch 14/30\n",
            "112/112 - 5s - loss: 7.8080e-07 - fn: 14.0000 - fp: 7033.0000 - tn: 220396.0000 - tp: 403.0000 - precision: 0.0542 - recall: 0.9664 - val_loss: 0.0422 - val_fn: 8.0000 - val_fp: 763.0000 - val_tn: 56123.0000 - val_tp: 67.0000 - val_precision: 0.0807 - val_recall: 0.8933 - 5s/epoch - 43ms/step\n",
            "Epoch 15/30\n",
            "112/112 - 8s - loss: 5.6094e-07 - fn: 11.0000 - fp: 5151.0000 - tn: 222278.0000 - tp: 406.0000 - precision: 0.0731 - recall: 0.9736 - val_loss: 0.0978 - val_fn: 6.0000 - val_fp: 2358.0000 - val_tn: 54528.0000 - val_tp: 69.0000 - val_precision: 0.0284 - val_recall: 0.9200 - 8s/epoch - 71ms/step\n",
            "Epoch 16/30\n",
            "112/112 - 5s - loss: 4.5233e-07 - fn: 5.0000 - fp: 5324.0000 - tn: 222105.0000 - tp: 412.0000 - precision: 0.0718 - recall: 0.9880 - val_loss: 0.0311 - val_fn: 7.0000 - val_fp: 635.0000 - val_tn: 56251.0000 - val_tp: 68.0000 - val_precision: 0.0967 - val_recall: 0.9067 - 5s/epoch - 43ms/step\n",
            "Epoch 17/30\n",
            "112/112 - 5s - loss: 5.6480e-07 - fn: 9.0000 - fp: 5264.0000 - tn: 222165.0000 - tp: 408.0000 - precision: 0.0719 - recall: 0.9784 - val_loss: 0.0419 - val_fn: 8.0000 - val_fp: 717.0000 - val_tn: 56169.0000 - val_tp: 67.0000 - val_precision: 0.0855 - val_recall: 0.8933 - 5s/epoch - 46ms/step\n",
            "Epoch 18/30\n",
            "112/112 - 7s - loss: 5.7535e-07 - fn: 9.0000 - fp: 7054.0000 - tn: 220375.0000 - tp: 408.0000 - precision: 0.0547 - recall: 0.9784 - val_loss: 0.0512 - val_fn: 8.0000 - val_fp: 933.0000 - val_tn: 55953.0000 - val_tp: 67.0000 - val_precision: 0.0670 - val_recall: 0.8933 - 7s/epoch - 60ms/step\n",
            "Epoch 19/30\n",
            "112/112 - 5s - loss: 4.8485e-07 - fn: 6.0000 - fp: 5402.0000 - tn: 222027.0000 - tp: 411.0000 - precision: 0.0707 - recall: 0.9856 - val_loss: 0.0443 - val_fn: 10.0000 - val_fp: 1125.0000 - val_tn: 55761.0000 - val_tp: 65.0000 - val_precision: 0.0546 - val_recall: 0.8667 - 5s/epoch - 46ms/step\n",
            "Epoch 20/30\n",
            "112/112 - 6s - loss: 4.1055e-07 - fn: 5.0000 - fp: 4111.0000 - tn: 223318.0000 - tp: 412.0000 - precision: 0.0911 - recall: 0.9880 - val_loss: 0.0224 - val_fn: 12.0000 - val_fp: 415.0000 - val_tn: 56471.0000 - val_tp: 63.0000 - val_precision: 0.1318 - val_recall: 0.8400 - 6s/epoch - 55ms/step\n",
            "Epoch 21/30\n",
            "112/112 - 6s - loss: 9.1860e-07 - fn: 9.0000 - fp: 7906.0000 - tn: 219523.0000 - tp: 408.0000 - precision: 0.0491 - recall: 0.9784 - val_loss: 0.3084 - val_fn: 5.0000 - val_fp: 3530.0000 - val_tn: 53356.0000 - val_tp: 70.0000 - val_precision: 0.0194 - val_recall: 0.9333 - 6s/epoch - 53ms/step\n",
            "Epoch 22/30\n",
            "112/112 - 5s - loss: 1.2971e-06 - fn: 16.0000 - fp: 6387.0000 - tn: 221042.0000 - tp: 401.0000 - precision: 0.0591 - recall: 0.9616 - val_loss: 0.0424 - val_fn: 7.0000 - val_fp: 543.0000 - val_tn: 56343.0000 - val_tp: 68.0000 - val_precision: 0.1113 - val_recall: 0.9067 - 5s/epoch - 45ms/step\n",
            "Epoch 23/30\n",
            "112/112 - 7s - loss: 6.2811e-07 - fn: 10.0000 - fp: 4875.0000 - tn: 222554.0000 - tp: 407.0000 - precision: 0.0771 - recall: 0.9760 - val_loss: 0.0473 - val_fn: 7.0000 - val_fp: 986.0000 - val_tn: 55900.0000 - val_tp: 68.0000 - val_precision: 0.0645 - val_recall: 0.9067 - 7s/epoch - 63ms/step\n",
            "Epoch 24/30\n",
            "112/112 - 5s - loss: 5.5693e-06 - fn: 24.0000 - fp: 11297.0000 - tn: 216132.0000 - tp: 393.0000 - precision: 0.0336 - recall: 0.9424 - val_loss: 0.1547 - val_fn: 8.0000 - val_fp: 1210.0000 - val_tn: 55676.0000 - val_tp: 67.0000 - val_precision: 0.0525 - val_recall: 0.8933 - 5s/epoch - 42ms/step\n",
            "Epoch 25/30\n",
            "112/112 - 5s - loss: 2.7951e-06 - fn: 24.0000 - fp: 6567.0000 - tn: 220862.0000 - tp: 393.0000 - precision: 0.0565 - recall: 0.9424 - val_loss: 0.0686 - val_fn: 8.0000 - val_fp: 664.0000 - val_tn: 56222.0000 - val_tp: 67.0000 - val_precision: 0.0917 - val_recall: 0.8933 - 5s/epoch - 46ms/step\n",
            "Epoch 26/30\n",
            "112/112 - 7s - loss: 1.5295e-06 - fn: 15.0000 - fp: 4800.0000 - tn: 222629.0000 - tp: 402.0000 - precision: 0.0773 - recall: 0.9640 - val_loss: 0.0367 - val_fn: 11.0000 - val_fp: 376.0000 - val_tn: 56510.0000 - val_tp: 64.0000 - val_precision: 0.1455 - val_recall: 0.8533 - 7s/epoch - 64ms/step\n",
            "Epoch 27/30\n",
            "112/112 - 5s - loss: 6.7184e-06 - fn: 18.0000 - fp: 7370.0000 - tn: 220059.0000 - tp: 399.0000 - precision: 0.0514 - recall: 0.9568 - val_loss: 0.0773 - val_fn: 10.0000 - val_fp: 442.0000 - val_tn: 56444.0000 - val_tp: 65.0000 - val_precision: 0.1282 - val_recall: 0.8667 - 5s/epoch - 43ms/step\n",
            "Epoch 28/30\n",
            "112/112 - 6s - loss: 1.3155e-06 - fn: 15.0000 - fp: 3506.0000 - tn: 223923.0000 - tp: 402.0000 - precision: 0.1029 - recall: 0.9640 - val_loss: 0.0327 - val_fn: 10.0000 - val_fp: 423.0000 - val_tn: 56463.0000 - val_tp: 65.0000 - val_precision: 0.1332 - val_recall: 0.8667 - 6s/epoch - 54ms/step\n",
            "Epoch 29/30\n",
            "112/112 - 6s - loss: 6.9556e-07 - fn: 6.0000 - fp: 4348.0000 - tn: 223081.0000 - tp: 411.0000 - precision: 0.0864 - recall: 0.9856 - val_loss: 0.1234 - val_fn: 8.0000 - val_fp: 1860.0000 - val_tn: 55026.0000 - val_tp: 67.0000 - val_precision: 0.0348 - val_recall: 0.8933 - 6s/epoch - 54ms/step\n",
            "Epoch 30/30\n",
            "112/112 - 5s - loss: 5.7226e-07 - fn: 4.0000 - fp: 4497.0000 - tn: 222932.0000 - tp: 413.0000 - precision: 0.0841 - recall: 0.9904 - val_loss: 0.0395 - val_fn: 9.0000 - val_fp: 981.0000 - val_tn: 55905.0000 - val_tp: 66.0000 - val_precision: 0.0630 - val_recall: 0.8800 - 5s/epoch - 45ms/step\n"
          ]
        },
        {
          "output_type": "execute_result",
          "data": {
            "text/plain": [
              "<keras.src.callbacks.History at 0x7bdd881c9b10>"
            ]
          },
          "metadata": {},
          "execution_count": 8
        }
      ]
    },
    {
      "cell_type": "code",
      "source": [],
      "metadata": {
        "id": "eXqPwVhMoFkv"
      },
      "execution_count": null,
      "outputs": []
    }
  ]
}